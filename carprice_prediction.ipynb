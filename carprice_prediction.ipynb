{
 "cells": [
  {
   "cell_type": "markdown",
   "id": "38e1cec4-ea0a-4220-96f4-9091fc6fff5f",
   "metadata": {},
   "source": [
    "## 1. Data Preparation\n",
    "- Import libs\n",
    "- Load data\n",
    "- Quality check\n",
    "- Normalize data"
   ]
  },
  {
   "cell_type": "code",
   "execution_count": null,
   "id": "36741ca7-5c2b-4310-a8b1-b90e700415ee",
   "metadata": {},
   "outputs": [],
   "source": []
  },
  {
   "cell_type": "code",
   "execution_count": 165,
   "id": "7024d73b-1f8b-447a-bdd0-69201a784c9a",
   "metadata": {},
   "outputs": [],
   "source": [
    "import pandas as pd\n",
    "import numpy as np\n",
    "from matplotlib import pyplot as plt\n",
    "import seaborn as sns\n",
    "from sklearn.model_selection import train_test_split\n",
    "from sklearn.linear_model import LinearRegression\n",
    "from sklearn.metrics import mean_squared_error"
   ]
  },
  {
   "cell_type": "code",
   "execution_count": 85,
   "id": "4f9551d0-e1dd-4a74-bd07-6c8e3de7a989",
   "metadata": {},
   "outputs": [],
   "source": [
    "data = 'data\\cardataset.csv'\n",
    "df = pd.read_csv(data)"
   ]
  },
  {
   "cell_type": "code",
   "execution_count": 86,
   "id": "0f1a4673-8e69-4fed-ba76-43233a02d154",
   "metadata": {},
   "outputs": [
    {
     "data": {
      "text/html": [
       "<div>\n",
       "<style scoped>\n",
       "    .dataframe tbody tr th:only-of-type {\n",
       "        vertical-align: middle;\n",
       "    }\n",
       "\n",
       "    .dataframe tbody tr th {\n",
       "        vertical-align: top;\n",
       "    }\n",
       "\n",
       "    .dataframe thead th {\n",
       "        text-align: right;\n",
       "    }\n",
       "</style>\n",
       "<table border=\"1\" class=\"dataframe\">\n",
       "  <thead>\n",
       "    <tr style=\"text-align: right;\">\n",
       "      <th></th>\n",
       "      <th>Make</th>\n",
       "      <th>Model</th>\n",
       "      <th>Year</th>\n",
       "      <th>Engine Fuel Type</th>\n",
       "      <th>Engine HP</th>\n",
       "      <th>Engine Cylinders</th>\n",
       "      <th>Transmission Type</th>\n",
       "      <th>Driven_Wheels</th>\n",
       "      <th>Number of Doors</th>\n",
       "      <th>Market Category</th>\n",
       "      <th>Vehicle Size</th>\n",
       "      <th>Vehicle Style</th>\n",
       "      <th>highway MPG</th>\n",
       "      <th>city mpg</th>\n",
       "      <th>Popularity</th>\n",
       "      <th>MSRP</th>\n",
       "    </tr>\n",
       "  </thead>\n",
       "  <tbody>\n",
       "    <tr>\n",
       "      <th>0</th>\n",
       "      <td>BMW</td>\n",
       "      <td>1 Series M</td>\n",
       "      <td>2011</td>\n",
       "      <td>premium unleaded (required)</td>\n",
       "      <td>335.0</td>\n",
       "      <td>6.0</td>\n",
       "      <td>MANUAL</td>\n",
       "      <td>rear wheel drive</td>\n",
       "      <td>2.0</td>\n",
       "      <td>Factory Tuner,Luxury,High-Performance</td>\n",
       "      <td>Compact</td>\n",
       "      <td>Coupe</td>\n",
       "      <td>26</td>\n",
       "      <td>19</td>\n",
       "      <td>3916</td>\n",
       "      <td>46135</td>\n",
       "    </tr>\n",
       "    <tr>\n",
       "      <th>1</th>\n",
       "      <td>BMW</td>\n",
       "      <td>1 Series</td>\n",
       "      <td>2011</td>\n",
       "      <td>premium unleaded (required)</td>\n",
       "      <td>300.0</td>\n",
       "      <td>6.0</td>\n",
       "      <td>MANUAL</td>\n",
       "      <td>rear wheel drive</td>\n",
       "      <td>2.0</td>\n",
       "      <td>Luxury,Performance</td>\n",
       "      <td>Compact</td>\n",
       "      <td>Convertible</td>\n",
       "      <td>28</td>\n",
       "      <td>19</td>\n",
       "      <td>3916</td>\n",
       "      <td>40650</td>\n",
       "    </tr>\n",
       "    <tr>\n",
       "      <th>2</th>\n",
       "      <td>BMW</td>\n",
       "      <td>1 Series</td>\n",
       "      <td>2011</td>\n",
       "      <td>premium unleaded (required)</td>\n",
       "      <td>300.0</td>\n",
       "      <td>6.0</td>\n",
       "      <td>MANUAL</td>\n",
       "      <td>rear wheel drive</td>\n",
       "      <td>2.0</td>\n",
       "      <td>Luxury,High-Performance</td>\n",
       "      <td>Compact</td>\n",
       "      <td>Coupe</td>\n",
       "      <td>28</td>\n",
       "      <td>20</td>\n",
       "      <td>3916</td>\n",
       "      <td>36350</td>\n",
       "    </tr>\n",
       "    <tr>\n",
       "      <th>3</th>\n",
       "      <td>BMW</td>\n",
       "      <td>1 Series</td>\n",
       "      <td>2011</td>\n",
       "      <td>premium unleaded (required)</td>\n",
       "      <td>230.0</td>\n",
       "      <td>6.0</td>\n",
       "      <td>MANUAL</td>\n",
       "      <td>rear wheel drive</td>\n",
       "      <td>2.0</td>\n",
       "      <td>Luxury,Performance</td>\n",
       "      <td>Compact</td>\n",
       "      <td>Coupe</td>\n",
       "      <td>28</td>\n",
       "      <td>18</td>\n",
       "      <td>3916</td>\n",
       "      <td>29450</td>\n",
       "    </tr>\n",
       "    <tr>\n",
       "      <th>4</th>\n",
       "      <td>BMW</td>\n",
       "      <td>1 Series</td>\n",
       "      <td>2011</td>\n",
       "      <td>premium unleaded (required)</td>\n",
       "      <td>230.0</td>\n",
       "      <td>6.0</td>\n",
       "      <td>MANUAL</td>\n",
       "      <td>rear wheel drive</td>\n",
       "      <td>2.0</td>\n",
       "      <td>Luxury</td>\n",
       "      <td>Compact</td>\n",
       "      <td>Convertible</td>\n",
       "      <td>28</td>\n",
       "      <td>18</td>\n",
       "      <td>3916</td>\n",
       "      <td>34500</td>\n",
       "    </tr>\n",
       "  </tbody>\n",
       "</table>\n",
       "</div>"
      ],
      "text/plain": [
       "  Make       Model  Year             Engine Fuel Type  Engine HP  \\\n",
       "0  BMW  1 Series M  2011  premium unleaded (required)      335.0   \n",
       "1  BMW    1 Series  2011  premium unleaded (required)      300.0   \n",
       "2  BMW    1 Series  2011  premium unleaded (required)      300.0   \n",
       "3  BMW    1 Series  2011  premium unleaded (required)      230.0   \n",
       "4  BMW    1 Series  2011  premium unleaded (required)      230.0   \n",
       "\n",
       "   Engine Cylinders Transmission Type     Driven_Wheels  Number of Doors  \\\n",
       "0               6.0            MANUAL  rear wheel drive              2.0   \n",
       "1               6.0            MANUAL  rear wheel drive              2.0   \n",
       "2               6.0            MANUAL  rear wheel drive              2.0   \n",
       "3               6.0            MANUAL  rear wheel drive              2.0   \n",
       "4               6.0            MANUAL  rear wheel drive              2.0   \n",
       "\n",
       "                         Market Category Vehicle Size Vehicle Style  \\\n",
       "0  Factory Tuner,Luxury,High-Performance      Compact         Coupe   \n",
       "1                     Luxury,Performance      Compact   Convertible   \n",
       "2                Luxury,High-Performance      Compact         Coupe   \n",
       "3                     Luxury,Performance      Compact         Coupe   \n",
       "4                                 Luxury      Compact   Convertible   \n",
       "\n",
       "   highway MPG  city mpg  Popularity   MSRP  \n",
       "0           26        19        3916  46135  \n",
       "1           28        19        3916  40650  \n",
       "2           28        20        3916  36350  \n",
       "3           28        18        3916  29450  \n",
       "4           28        18        3916  34500  "
      ]
     },
     "execution_count": 86,
     "metadata": {},
     "output_type": "execute_result"
    }
   ],
   "source": [
    "df.head()"
   ]
  },
  {
   "cell_type": "code",
   "execution_count": 87,
   "id": "54e5ed88-01b3-47fa-8064-7fe1a1d77373",
   "metadata": {},
   "outputs": [
    {
     "data": {
      "text/plain": [
       "(11914, 16)"
      ]
     },
     "execution_count": 87,
     "metadata": {},
     "output_type": "execute_result"
    }
   ],
   "source": [
    "# Shape of data\n",
    "df.shape"
   ]
  },
  {
   "cell_type": "code",
   "execution_count": 88,
   "id": "be2129e1-db15-4fc3-826d-94e4331f51cc",
   "metadata": {},
   "outputs": [
    {
     "name": "stdout",
     "output_type": "stream",
     "text": [
      "<class 'pandas.core.frame.DataFrame'>\n",
      "RangeIndex: 11914 entries, 0 to 11913\n",
      "Data columns (total 16 columns):\n",
      " #   Column             Non-Null Count  Dtype  \n",
      "---  ------             --------------  -----  \n",
      " 0   Make               11914 non-null  object \n",
      " 1   Model              11914 non-null  object \n",
      " 2   Year               11914 non-null  int64  \n",
      " 3   Engine Fuel Type   11911 non-null  object \n",
      " 4   Engine HP          11845 non-null  float64\n",
      " 5   Engine Cylinders   11884 non-null  float64\n",
      " 6   Transmission Type  11914 non-null  object \n",
      " 7   Driven_Wheels      11914 non-null  object \n",
      " 8   Number of Doors    11908 non-null  float64\n",
      " 9   Market Category    8172 non-null   object \n",
      " 10  Vehicle Size       11914 non-null  object \n",
      " 11  Vehicle Style      11914 non-null  object \n",
      " 12  highway MPG        11914 non-null  int64  \n",
      " 13  city mpg           11914 non-null  int64  \n",
      " 14  Popularity         11914 non-null  int64  \n",
      " 15  MSRP               11914 non-null  int64  \n",
      "dtypes: float64(3), int64(5), object(8)\n",
      "memory usage: 1.5+ MB\n"
     ]
    }
   ],
   "source": [
    "# data info\n",
    "df.info()"
   ]
  },
  {
   "cell_type": "code",
   "execution_count": 89,
   "id": "e79364fe-73e6-4d4f-908c-4c4a43695e75",
   "metadata": {},
   "outputs": [],
   "source": [
    "# Normalize data: lowercase column names and object values\n",
    "df.columns=df.columns.str.lower().str.replace(' ','_')\n",
    "obj_col = df.dtypes[df.dtypes == 'object'].index\n",
    "obj_col_list = list(obj_col)\n",
    "for i in obj_col_list:\n",
    "    df[i] = df[i].str.lower().str.replace(' ','')"
   ]
  },
  {
   "cell_type": "code",
   "execution_count": 90,
   "id": "4bb034fe-efd4-423f-912e-bf3abf669d04",
   "metadata": {},
   "outputs": [
    {
     "data": {
      "text/plain": [
       "make                    0\n",
       "model                   0\n",
       "year                    0\n",
       "engine_fuel_type        3\n",
       "engine_hp              69\n",
       "engine_cylinders       30\n",
       "transmission_type       0\n",
       "driven_wheels           0\n",
       "number_of_doors         6\n",
       "market_category      3742\n",
       "vehicle_size            0\n",
       "vehicle_style           0\n",
       "highway_mpg             0\n",
       "city_mpg                0\n",
       "popularity              0\n",
       "msrp                    0\n",
       "dtype: int64"
      ]
     },
     "execution_count": 90,
     "metadata": {},
     "output_type": "execute_result"
    }
   ],
   "source": [
    "# missing value at column\n",
    "df.isnull().sum()"
   ]
  },
  {
   "cell_type": "code",
   "execution_count": 91,
   "id": "3cf18b60-741c-42a5-9ed0-16cf87edf01f",
   "metadata": {},
   "outputs": [
    {
     "data": {
      "text/plain": [
       "make                   48\n",
       "model                 914\n",
       "year                   28\n",
       "engine_fuel_type       10\n",
       "engine_hp             356\n",
       "engine_cylinders        9\n",
       "transmission_type       5\n",
       "driven_wheels           4\n",
       "number_of_doors         3\n",
       "market_category        71\n",
       "vehicle_size            3\n",
       "vehicle_style          16\n",
       "highway_mpg            59\n",
       "city_mpg               69\n",
       "popularity             48\n",
       "msrp                 6049\n",
       "dtype: int64"
      ]
     },
     "execution_count": 91,
     "metadata": {},
     "output_type": "execute_result"
    }
   ],
   "source": [
    "df.nunique()"
   ]
  },
  {
   "cell_type": "markdown",
   "id": "fccba93e-4871-4d80-99bb-2fcbfb4398d9",
   "metadata": {},
   "source": [
    "## 2. EDA"
   ]
  },
  {
   "cell_type": "code",
   "execution_count": 92,
   "id": "863716f9-48cb-4c9e-972e-f97b68722516",
   "metadata": {},
   "outputs": [
    {
     "data": {
      "text/html": [
       "<div>\n",
       "<style scoped>\n",
       "    .dataframe tbody tr th:only-of-type {\n",
       "        vertical-align: middle;\n",
       "    }\n",
       "\n",
       "    .dataframe tbody tr th {\n",
       "        vertical-align: top;\n",
       "    }\n",
       "\n",
       "    .dataframe thead th {\n",
       "        text-align: right;\n",
       "    }\n",
       "</style>\n",
       "<table border=\"1\" class=\"dataframe\">\n",
       "  <thead>\n",
       "    <tr style=\"text-align: right;\">\n",
       "      <th></th>\n",
       "      <th>year</th>\n",
       "      <th>engine_hp</th>\n",
       "      <th>engine_cylinders</th>\n",
       "      <th>number_of_doors</th>\n",
       "      <th>highway_mpg</th>\n",
       "      <th>city_mpg</th>\n",
       "      <th>popularity</th>\n",
       "      <th>msrp</th>\n",
       "    </tr>\n",
       "  </thead>\n",
       "  <tbody>\n",
       "    <tr>\n",
       "      <th>count</th>\n",
       "      <td>11914.000000</td>\n",
       "      <td>11845.00000</td>\n",
       "      <td>11884.000000</td>\n",
       "      <td>11908.000000</td>\n",
       "      <td>11914.000000</td>\n",
       "      <td>11914.000000</td>\n",
       "      <td>11914.000000</td>\n",
       "      <td>1.191400e+04</td>\n",
       "    </tr>\n",
       "    <tr>\n",
       "      <th>mean</th>\n",
       "      <td>2010.384338</td>\n",
       "      <td>249.38607</td>\n",
       "      <td>5.628829</td>\n",
       "      <td>3.436093</td>\n",
       "      <td>26.637485</td>\n",
       "      <td>19.733255</td>\n",
       "      <td>1554.911197</td>\n",
       "      <td>4.059474e+04</td>\n",
       "    </tr>\n",
       "    <tr>\n",
       "      <th>std</th>\n",
       "      <td>7.579740</td>\n",
       "      <td>109.19187</td>\n",
       "      <td>1.780559</td>\n",
       "      <td>0.881315</td>\n",
       "      <td>8.863001</td>\n",
       "      <td>8.987798</td>\n",
       "      <td>1441.855347</td>\n",
       "      <td>6.010910e+04</td>\n",
       "    </tr>\n",
       "    <tr>\n",
       "      <th>min</th>\n",
       "      <td>1990.000000</td>\n",
       "      <td>55.00000</td>\n",
       "      <td>0.000000</td>\n",
       "      <td>2.000000</td>\n",
       "      <td>12.000000</td>\n",
       "      <td>7.000000</td>\n",
       "      <td>2.000000</td>\n",
       "      <td>2.000000e+03</td>\n",
       "    </tr>\n",
       "    <tr>\n",
       "      <th>25%</th>\n",
       "      <td>2007.000000</td>\n",
       "      <td>170.00000</td>\n",
       "      <td>4.000000</td>\n",
       "      <td>2.000000</td>\n",
       "      <td>22.000000</td>\n",
       "      <td>16.000000</td>\n",
       "      <td>549.000000</td>\n",
       "      <td>2.100000e+04</td>\n",
       "    </tr>\n",
       "    <tr>\n",
       "      <th>50%</th>\n",
       "      <td>2015.000000</td>\n",
       "      <td>227.00000</td>\n",
       "      <td>6.000000</td>\n",
       "      <td>4.000000</td>\n",
       "      <td>26.000000</td>\n",
       "      <td>18.000000</td>\n",
       "      <td>1385.000000</td>\n",
       "      <td>2.999500e+04</td>\n",
       "    </tr>\n",
       "    <tr>\n",
       "      <th>75%</th>\n",
       "      <td>2016.000000</td>\n",
       "      <td>300.00000</td>\n",
       "      <td>6.000000</td>\n",
       "      <td>4.000000</td>\n",
       "      <td>30.000000</td>\n",
       "      <td>22.000000</td>\n",
       "      <td>2009.000000</td>\n",
       "      <td>4.223125e+04</td>\n",
       "    </tr>\n",
       "    <tr>\n",
       "      <th>max</th>\n",
       "      <td>2017.000000</td>\n",
       "      <td>1001.00000</td>\n",
       "      <td>16.000000</td>\n",
       "      <td>4.000000</td>\n",
       "      <td>354.000000</td>\n",
       "      <td>137.000000</td>\n",
       "      <td>5657.000000</td>\n",
       "      <td>2.065902e+06</td>\n",
       "    </tr>\n",
       "  </tbody>\n",
       "</table>\n",
       "</div>"
      ],
      "text/plain": [
       "               year    engine_hp  engine_cylinders  number_of_doors  \\\n",
       "count  11914.000000  11845.00000      11884.000000     11908.000000   \n",
       "mean    2010.384338    249.38607          5.628829         3.436093   \n",
       "std        7.579740    109.19187          1.780559         0.881315   \n",
       "min     1990.000000     55.00000          0.000000         2.000000   \n",
       "25%     2007.000000    170.00000          4.000000         2.000000   \n",
       "50%     2015.000000    227.00000          6.000000         4.000000   \n",
       "75%     2016.000000    300.00000          6.000000         4.000000   \n",
       "max     2017.000000   1001.00000         16.000000         4.000000   \n",
       "\n",
       "        highway_mpg      city_mpg    popularity          msrp  \n",
       "count  11914.000000  11914.000000  11914.000000  1.191400e+04  \n",
       "mean      26.637485     19.733255   1554.911197  4.059474e+04  \n",
       "std        8.863001      8.987798   1441.855347  6.010910e+04  \n",
       "min       12.000000      7.000000      2.000000  2.000000e+03  \n",
       "25%       22.000000     16.000000    549.000000  2.100000e+04  \n",
       "50%       26.000000     18.000000   1385.000000  2.999500e+04  \n",
       "75%       30.000000     22.000000   2009.000000  4.223125e+04  \n",
       "max      354.000000    137.000000   5657.000000  2.065902e+06  "
      ]
     },
     "execution_count": 92,
     "metadata": {},
     "output_type": "execute_result"
    }
   ],
   "source": [
    "df.describe()"
   ]
  },
  {
   "cell_type": "markdown",
   "id": "f582ed26-eee9-42b9-befd-aa05f9afa089",
   "metadata": {},
   "source": [
    "### 2.1.Check price distribution"
   ]
  },
  {
   "cell_type": "code",
   "execution_count": 93,
   "id": "bc9dc93d-f03b-4a7b-8ecf-5de8391c94e9",
   "metadata": {},
   "outputs": [
    {
     "name": "stderr",
     "output_type": "stream",
     "text": [
      "C:\\Users\\v121256\\AppData\\Local\\anaconda3\\Lib\\site-packages\\seaborn\\_oldcore.py:1119: FutureWarning: use_inf_as_na option is deprecated and will be removed in a future version. Convert inf values to NaN before operating instead.\n",
      "  with pd.option_context('mode.use_inf_as_na', True):\n"
     ]
    },
    {
     "data": {
      "text/plain": [
       "<Axes: xlabel='msrp', ylabel='Count'>"
      ]
     },
     "execution_count": 93,
     "metadata": {},
     "output_type": "execute_result"
    },
    {
     "data": {
      "image/png": "[encoded data removed]",
      "text/plain": [
       "<Figure size 640x480 with 1 Axes>"
      ]
     },
     "metadata": {},
     "output_type": "display_data"
    }
   ],
   "source": [
    "sns.histplot(data = df.msrp, bins = 50)"
   ]
  },
  {
   "cell_type": "code",
   "execution_count": 94,
   "id": "6773b494-b16f-47ec-86f0-d3dd869cec4e",
   "metadata": {},
   "outputs": [
    {
     "name": "stdout",
     "output_type": "stream",
     "text": [
      "Skew of price: 11.771987129334972\n",
      "Min of price: 2000\n",
      "Max of price: 2065902\n",
      "Median: 29995.0\n",
      "Mode: 0    2000\n",
      "Name: msrp, dtype: int64\n",
      "Mean: 40594.737032063116\n"
     ]
    }
   ],
   "source": [
    "# Descriptive Statistics\n",
    "df_price = df['msrp']\n",
    "print('Skew of price:', df_price.skew())\n",
    "print('Min of price:', df_price.min())\n",
    "print('Max of price:', df_price.max())\n",
    "print('Median:', df_price.median())\n",
    "print('Mode:', df_price.mode())\n",
    "print('Mean:', df_price.mean())"
   ]
  },
  {
   "cell_type": "code",
   "execution_count": 95,
   "id": "91231edd-1f6f-411e-97df-97d68e4b11d8",
   "metadata": {},
   "outputs": [
    {
     "name": "stderr",
     "output_type": "stream",
     "text": [
      "C:\\Users\\v121256\\AppData\\Local\\anaconda3\\Lib\\site-packages\\seaborn\\_oldcore.py:1119: FutureWarning: use_inf_as_na option is deprecated and will be removed in a future version. Convert inf values to NaN before operating instead.\n",
      "  with pd.option_context('mode.use_inf_as_na', True):\n"
     ]
    },
    {
     "data": {
      "text/plain": [
       "<Axes: xlabel='msrp', ylabel='Count'>"
      ]
     },
     "execution_count": 95,
     "metadata": {},
     "output_type": "execute_result"
    },
    {
     "data": {
      "image/png": "[encoded data removed]",
      "text/plain": [
       "<Figure size 640x480 with 1 Axes>"
      ]
     },
     "metadata": {},
     "output_type": "display_data"
    }
   ],
   "source": [
    "sns.histplot(data = df.msrp[df.msrp <100000], bins = 50)"
   ]
  },
  {
   "cell_type": "markdown",
   "id": "38f957f9-1afb-4b0d-95cc-941924f7c80e",
   "metadata": {},
   "source": [
    "=> **The distribution is skewed to the right which means the majority of car price falled at lower range. Therefore, we can use logarithm distribution to describe the data**"
   ]
  },
  {
   "cell_type": "code",
   "execution_count": 96,
   "id": "5378f179-290e-4c5b-9930-ab1078ac2318",
   "metadata": {},
   "outputs": [
    {
     "name": "stderr",
     "output_type": "stream",
     "text": [
      "C:\\Users\\v121256\\AppData\\Local\\anaconda3\\Lib\\site-packages\\seaborn\\_oldcore.py:1119: FutureWarning: use_inf_as_na option is deprecated and will be removed in a future version. Convert inf values to NaN before operating instead.\n",
      "  with pd.option_context('mode.use_inf_as_na', True):\n"
     ]
    },
    {
     "data": {
      "text/plain": [
       "<Axes: xlabel='msrp', ylabel='Count'>"
      ]
     },
     "execution_count": 96,
     "metadata": {},
     "output_type": "execute_result"
    },
    {
     "data": {
      "image/png": "[encoded data removed]",
      "text/plain": [
       "<Figure size 640x480 with 1 Axes>"
      ]
     },
     "metadata": {},
     "output_type": "display_data"
    }
   ],
   "source": [
    "# Log series distribution\n",
    "price_log = np.log1p(df.msrp)\n",
    "sns.histplot(data = price_log, bins = 50)"
   ]
  },
  {
   "cell_type": "markdown",
   "id": "159d342e-577d-442b-98cc-8c72b39d0132",
   "metadata": {},
   "source": [
    "### 2.2. Check Outliers of Price"
   ]
  },
  {
   "cell_type": "code",
   "execution_count": 97,
   "id": "521b548f-c9c7-49b3-99a6-049866b3aafa",
   "metadata": {},
   "outputs": [
    {
     "name": "stdout",
     "output_type": "stream",
     "text": [
      "lower bound:  -10846.875\n",
      "upper bound:  74078.125\n"
     ]
    }
   ],
   "source": [
    "# Calculate Q1, Q3, IQR\n",
    "\n",
    "df_q1 = df['msrp'].quantile(0.25)\n",
    "df_q3 = df['msrp'].quantile(0.75)\n",
    "iqr = df_q3 - df_q1\n",
    "lower_bound = df_q1 - iqr*1.5\n",
    "upper_bound = df_q3 + iqr*1.5\n",
    "print('lower bound: ', lower_bound)\n",
    "print('upper bound: ',upper_bound)"
   ]
  },
  {
   "cell_type": "markdown",
   "id": "a8d8a24a-1431-444d-accf-415238d6ef31",
   "metadata": {},
   "source": [
    "**Since lower bound is negative and we found that the majority of data set is righ-skew, we will only exam the data with extreme high price**"
   ]
  },
  {
   "cell_type": "code",
   "execution_count": 98,
   "id": "ca27a1e7-a374-42bc-8677-d85c72bd2d7a",
   "metadata": {},
   "outputs": [
    {
     "data": {
      "text/plain": [
       "0.08"
      ]
     },
     "execution_count": 98,
     "metadata": {},
     "output_type": "execute_result"
    }
   ],
   "source": [
    "# Ratio of extreme high price\n",
    "\n",
    "outlier_ratio = round(df[df['msrp'] >=upper_bound].shape[0]/ df.shape[0],2)\n",
    "outlier_ratio"
   ]
  },
  {
   "cell_type": "code",
   "execution_count": 99,
   "id": "12ffa287-95f9-4d88-b659-c5ba07fa89e8",
   "metadata": {},
   "outputs": [
    {
     "data": {
      "text/plain": [
       "make\n",
       "mercedes-benz    105\n",
       "porsche           96\n",
       "bmw               95\n",
       "astonmartin       93\n",
       "cadillac          87\n",
       "bentley           74\n",
       "ferrari           69\n",
       "maserati          54\n",
       "lamborghini       52\n",
       "audi              50\n",
       "landrover         49\n",
       "rolls-royce       31\n",
       "chevrolet         22\n",
       "lexus             19\n",
       "dodge             18\n",
       "maybach           16\n",
       "tesla             13\n",
       "lotus             11\n",
       "volkswagen         8\n",
       "nissan             8\n",
       "acura              5\n",
       "mclaren            5\n",
       "lincoln            4\n",
       "toyota             3\n",
       "spyker             3\n",
       "bugatti            3\n",
       "ford               2\n",
       "infiniti           1\n",
       "Name: count, dtype: int64"
      ]
     },
     "execution_count": 99,
     "metadata": {},
     "output_type": "execute_result"
    }
   ],
   "source": [
    "df_outlier = df[df['msrp'] >= upper_bound]\n",
    "df_outlier['make'].value_counts()"
   ]
  },
  {
   "cell_type": "code",
   "execution_count": 100,
   "id": "47ea79e6-52e7-47f3-95e0-58fb6be8b346",
   "metadata": {},
   "outputs": [],
   "source": [
    "#Remove Outliers\n",
    "sample = df[df['msrp']< upper_bound]"
   ]
  },
  {
   "cell_type": "markdown",
   "id": "35189c49-d8fd-4d4c-b2e1-0e32a7934bf4",
   "metadata": {},
   "source": [
    "## 3. Data Splitting  "
   ]
  },
  {
   "cell_type": "markdown",
   "id": "0f0b10c9-7552-4bad-9ee2-c5656dfbe505",
   "metadata": {},
   "source": [
    " *We need to hold-on method to split the data set*"
   ]
  },
  {
   "cell_type": "code",
   "execution_count": 101,
   "id": "fe191e5a-185d-4f11-b182-03d6b8a8cc4a",
   "metadata": {},
   "outputs": [],
   "source": [
    "#Split data into Train set, Validation set, Test set with ration 6:2:2 respectively\n",
    "np.random.seed(2)\n",
    "# number of sample\n",
    "n = len(sample)\n",
    "index_arr = np.arange(n)\n",
    "np.random.shuffle(index_arr)\n",
    "sample =sample.iloc[index_arr]\n",
    "\n",
    "#number of train, validation, test set\n",
    "n_train = int(n*0.6)\n",
    "n_validation = int(n*0.2)\n",
    "n_test = int(n*0.2)\n",
    "\n",
    "#split data sets\n",
    "\n",
    "df_train_org = sample.iloc[:n_train].copy()\n",
    "df_val_org = sample.iloc[n_train: n_train+n_validation].copy()\n",
    "df_test_org = sample.iloc[n_train+n_validation:].copy()\n",
    "\n",
    "#split target vectors and feature matrix\n",
    "\n",
    "y_train_org = df_train_org['msrp'].values\n",
    "y_val_org = df_val_org['msrp'].values\n",
    "y_test_org = df_test_org['msrp'].values\n",
    "\n",
    "\n"
   ]
  },
  {
   "cell_type": "markdown",
   "id": "90c117e4-92eb-48dc-bc9a-3f42e3a9a067",
   "metadata": {},
   "source": [
    "## 4.Linear Regression Model"
   ]
  },
  {
   "cell_type": "markdown",
   "id": "88bf6273-b296-422a-b4ab-6c59731c1f50",
   "metadata": {},
   "source": [
    "Define a function named linear_regression_model which based on Nornmal Equation andnd return the correlation matrix <br>\n",
    "Normal Equation: $$ w = (X^TX)^-1X^Ty $$"
   ]
  },
  {
   "cell_type": "code",
   "execution_count": 131,
   "id": "5950cbd2-6027-4fc2-a06d-26f22d1cd119",
   "metadata": {},
   "outputs": [],
   "source": [
    "def linear_regression_model(feature_matrix, target_vector):\n",
    "    X= feature_matrix\n",
    "    y =target_vector\n",
    "    ones = np.ones(X.shape[0])\n",
    "    X = np.column_stack([ones, X])\n",
    "    XTX = X.T.dot(X)\n",
    "    XTX_inv = np.linalg.inv(XTX)\n",
    "    w = XTX_inv.dot(X.T).dot(y)\n",
    "    w_0 = w[0]\n",
    "    w_i = w[1:]\n",
    "    return w_0, w_i"
   ]
  },
  {
   "cell_type": "markdown",
   "id": "7c64abd8-4b6f-4dbe-867f-fdb8e45af4e0",
   "metadata": {},
   "source": [
    "# 5. Baseline solution"
   ]
  },
  {
   "cell_type": "code",
   "execution_count": 151,
   "id": "0bfe8f5e-14fb-4911-b73d-df0f629ee51c",
   "metadata": {},
   "outputs": [],
   "source": [
    "# Prepare X matrix\n",
    "def prepare_X(df, feature):\n",
    "    df['age'] = 2017 - df.year\n",
    "    feature = feature + ['age']\n",
    "    df_num = df[feature]\n",
    "    df_num = df_num.fillna(0)\n",
    "    \n",
    "    X = df_num.values\n",
    "    return X "
   ]
  },
  {
   "cell_type": "code",
   "execution_count": 152,
   "id": "512d4993-2e9f-421f-9598-98677a0ad80e",
   "metadata": {},
   "outputs": [],
   "source": [
    "#only keep numeric columns as feature matrix\n",
    "feature_names = ['engine_hp', 'engine_cylinders', 'highway_mpg', 'city_mpg', 'popularity']\n",
    "X_train_org = prepare_X(df_train_org, feature_names)"
   ]
  },
  {
   "cell_type": "code",
   "execution_count": 153,
   "id": "3e97151c-40a0-4f4c-8738-2435f5bfe694",
   "metadata": {},
   "outputs": [],
   "source": [
    "w_0, w_i=linear_regression_model(X_train_org, y_train_org)\n",
    "y_pred = w_0 + X_train_org.dot(w_i)\n"
   ]
  },
  {
   "cell_type": "code",
   "execution_count": 154,
   "id": "1ae3524b-786c-4e75-8c51-e028fbd1a281",
   "metadata": {},
   "outputs": [
    {
     "name": "stderr",
     "output_type": "stream",
     "text": [
      "C:\\Users\\v121256\\AppData\\Local\\anaconda3\\Lib\\site-packages\\seaborn\\_oldcore.py:1119: FutureWarning: use_inf_as_na option is deprecated and will be removed in a future version. Convert inf values to NaN before operating instead.\n",
      "  with pd.option_context('mode.use_inf_as_na', True):\n",
      "C:\\Users\\v121256\\AppData\\Local\\anaconda3\\Lib\\site-packages\\seaborn\\_oldcore.py:1119: FutureWarning: use_inf_as_na option is deprecated and will be removed in a future version. Convert inf values to NaN before operating instead.\n",
      "  with pd.option_context('mode.use_inf_as_na', True):\n"
     ]
    },
    {
     "data": {
      "text/plain": [
       "<Axes: ylabel='Count'>"
      ]
     },
     "execution_count": 154,
     "metadata": {},
     "output_type": "execute_result"
    },
    {
     "data": {
      "image/png": "[encoded data removed]",
      "text/plain": [
       "<Figure size 640x480 with 1 Axes>"
      ]
     },
     "metadata": {},
     "output_type": "display_data"
    }
   ],
   "source": [
    "sns.histplot(y_pred, color='r', alpha = 0.5)\n",
    "sns.histplot(y_train_org, color = 'b', alpha = 0.5)"
   ]
  },
  {
   "cell_type": "code",
   "execution_count": 161,
   "id": "4b9b3204-bce7-44cb-af8e-13bb763f1b19",
   "metadata": {},
   "outputs": [],
   "source": [
    "model = LinearRegression()\n",
    "fit = model.fit(X_train_org, y_train_org)\n",
    "pred = model.predict(X_train_org)"
   ]
  },
  {
   "cell_type": "markdown",
   "id": "03751efe-0768-4fa4-9516-b68c06d80fb1",
   "metadata": {},
   "source": [
    "# 6.RMSE"
   ]
  },
  {
   "cell_type": "code",
   "execution_count": 155,
   "id": "2916d8bb-f582-4dd5-9bc6-b29e7bd96ae0",
   "metadata": {},
   "outputs": [],
   "source": [
    "def rmse( y_target,y_pred):\n",
    "    error =y_target- y_pred \n",
    "    se = error**2\n",
    "    mse = se.mean()\n",
    "    return np.sqrt(mse)"
   ]
  },
  {
   "cell_type": "code",
   "execution_count": 156,
   "id": "643fdfa4-6dab-4acc-bc3a-96c77cedcedb",
   "metadata": {},
   "outputs": [
    {
     "data": {
      "text/plain": [
       "8312.510442725728"
      ]
     },
     "execution_count": 156,
     "metadata": {},
     "output_type": "execute_result"
    }
   ],
   "source": [
    "rmse(y_pred,y_train_org)"
   ]
  },
  {
   "cell_type": "markdown",
   "id": "3e43216f-3ea0-422a-bf27-a9244f28ae6d",
   "metadata": {},
   "source": [
    "# 7. Categorical variables"
   ]
  },
  {
   "cell_type": "code",
   "execution_count": 159,
   "id": "a5ae4da2-4c10-4087-ae99-a10fffe38829",
   "metadata": {},
   "outputs": [
    {
     "data": {
      "text/plain": [
       "make                  object\n",
       "model                 object\n",
       "year                   int64\n",
       "engine_fuel_type      object\n",
       "engine_hp            float64\n",
       "engine_cylinders     float64\n",
       "transmission_type     object\n",
       "driven_wheels         object\n",
       "number_of_doors      float64\n",
       "market_category       object\n",
       "vehicle_size          object\n",
       "vehicle_style         object\n",
       "highway_mpg            int64\n",
       "city_mpg               int64\n",
       "popularity             int64\n",
       "msrp                   int64\n",
       "age                    int64\n",
       "dtype: object"
      ]
     },
     "execution_count": 159,
     "metadata": {},
     "output_type": "execute_result"
    }
   ],
   "source": [
    "df_train_org.dtypes"
   ]
  },
  {
   "cell_type": "code",
   "execution_count": null,
   "id": "5f1885a1-9447-4727-853c-91338693fdc0",
   "metadata": {},
   "outputs": [],
   "source": []
  },
  {
   "cell_type": "code",
   "execution_count": null,
   "id": "c99986e4-2a02-400f-ab18-4d1ab357663f",
   "metadata": {},
   "outputs": [],
   "source": [
    "for i in ["
   ]
  }
 ],
 "metadata": {
  "kernelspec": {
   "display_name": "Python 3 (ipykernel)",
   "language": "python",
   "name": "python3"
  },
  "language_info": {
   "codemirror_mode": {
    "name": "ipython",
    "version": 3
   },
   "file_extension": ".py",
   "mimetype": "text/x-python",
   "name": "python",
   "nbconvert_exporter": "python",
   "pygments_lexer": "ipython3",
   "version": "3.11.7"
  }
 },
 "nbformat": 4,
 "nbformat_minor": 5
}
